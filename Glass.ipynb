{
  "nbformat": 4,
  "nbformat_minor": 0,
  "metadata": {
    "colab": {
      "provenance": [],
      "authorship_tag": "ABX9TyOW4byPPE3f2oECDqbP24vC",
      "include_colab_link": true
    },
    "kernelspec": {
      "name": "python3",
      "display_name": "Python 3"
    },
    "language_info": {
      "name": "python"
    }
  },
  "cells": [
    {
      "cell_type": "markdown",
      "metadata": {
        "id": "view-in-github",
        "colab_type": "text"
      },
      "source": [
        "<a href=\"https://colab.research.google.com/github/BatmarcNYU/dataScienceBootCamp/blob/main/Glass.ipynb\" target=\"_parent\"><img src=\"https://colab.research.google.com/assets/colab-badge.svg\" alt=\"Open In Colab\"/></a>"
      ]
    },
    {
      "cell_type": "code",
      "execution_count": 8,
      "metadata": {
        "colab": {
          "base_uri": "https://localhost:8080/",
          "height": 970
        },
        "id": "RgptEWv9Iqzv",
        "outputId": "6ad2dd46-a628-4dd9-aad7-cb30e1b8ab28"
      },
      "outputs": [
        {
          "output_type": "stream",
          "name": "stdout",
          "text": [
            "\n",
            "Threshold: 0.4\n",
            "Accuracy: 0.8785046728971962\n",
            "Precision: 0.855970695970696\n",
            "Recall: 0.7922530975580416\n",
            "\n",
            "Threshold: 0.6\n",
            "Accuracy: 0.8411214953271028\n",
            "Precision: 0.8536307762349191\n",
            "Recall: 0.686875977384819\n",
            "\n",
            "Threshold: 0.7\n",
            "Accuracy: 0.8364485981308412\n",
            "Precision: 0.9116161616161615\n",
            "Recall: 0.6568627450980392\n",
            "\n",
            "Threshold: 0.4\n",
            "Accuracy: 0.8785046728971962\n",
            "Precision: 0.855970695970696\n",
            "Recall: 0.7922530975580416\n",
            "\n",
            "Threshold: 0.6\n",
            "Accuracy: 0.8411214953271028\n",
            "Precision: 0.8536307762349191\n",
            "Recall: 0.686875977384819\n",
            "\n",
            "Threshold: 0.7\n",
            "Accuracy: 0.8364485981308412\n",
            "Precision: 0.9116161616161615\n",
            "Recall: 0.6568627450980392\n"
          ]
        },
        {
          "output_type": "display_data",
          "data": {
            "text/plain": [
              "<Figure size 640x480 with 1 Axes>"
            ],
            "image/png": "[encoded data removed]"
          },
          "metadata": {}
        }
      ],
      "source": [
        "import pandas as pd\n",
        "import numpy as np\n",
        "import matplotlib.pyplot as plt\n",
        "from sklearn.linear_model import LogisticRegression\n",
        "from sklearn.metrics import accuracy_score, precision_score, recall_score\n",
        "\n",
        "glass = pd.read_csv('/content/glass.csv')\n",
        "\n",
        "glass['household'] = glass.Type.map({1:0, 2:0, 3:0, 5:1, 6:1, 7:1})\n",
        "glass.household.value_counts()\n",
        "\n",
        "# Split the data into features and target variable\n",
        "y = glass['Type']  # Target variable\n",
        "X = glass.drop(columns=['Type'])  # Features\n",
        "\n",
        "# 3)Fit a Logistic Regression Model on all features. Remember to preprocess data(eg. normalization and one hot encoding).\n",
        "\n",
        "glass.sort_values( by = 'Al', inplace=True)\n",
        "X= np.array(glass.Al).reshape(-1,1)\n",
        "y = glass.household\n",
        "# print(glass.info())\n",
        "\n",
        "\n",
        "logreg = LogisticRegression()\n",
        "logreg.fit(X,y)\n",
        "pred = logreg.predict(X)\n",
        "\n",
        "glass.sort_values( by = 'Al', inplace=True)\n",
        "# Plot the class predictions.\n",
        "\n",
        "plt.scatter(glass.Al, glass.household)\n",
        "plt.plot(glass.Al, pred, color='red')\n",
        "plt.xlabel('al')\n",
        "plt.ylabel('household')\n",
        "\n",
        "# 1)Try different thresholds for computing predictions using 'Al' column. By default it is 0.5. Use predict_proba function to compute probabilities and then try custom thresholds and see their impact on Accuracy, Precision and Recall.\n",
        "glass['household_pred_prob'] = logreg.predict_proba(X)[:, 1]\n",
        "thresholds = [0.4, 0.6, 0.7]\n",
        "\n",
        "for threshold in thresholds:\n",
        "    y_pred_thresholded = (logreg.predict_proba(X)[:, 1] > threshold).astype(int)\n",
        "    print(\"\\nThreshold:\", threshold)\n",
        "    print(\"Accuracy:\", accuracy_score(y, y_pred_thresholded))\n",
        "    print(\"Precision:\", precision_score(y, y_pred_thresholded, average='macro'))\n",
        "    print(\"Recall:\", recall_score(y, y_pred_thresholded, average='macro'))\n",
        "\n",
        "# 2)Do the same analysis for other columns\n",
        "# ['RI', 'Na', 'Mg', 'Al', 'Si', 'K', 'Ca', 'Ba', 'Fe', 'Type', 'household']\n",
        "glass.sort_values( by = 'RI', inplace=True)\n",
        "# Plot the class predictions.\n",
        "\n",
        "plt.scatter(glass.Al, glass.household)\n",
        "plt.plot(glass.Al, pred, color='blue')\n",
        "plt.xlabel('Rl')\n",
        "plt.ylabel('household')\n",
        "\n",
        "# 1)Try different thresholds for computing predictions using 'Al' column. By default it is 0.5. Use predict_proba function to compute probabilities and then try custom thresholds and see their impact on Accuracy, Precision and Recall.\n",
        "glass['household_pred_prob_Ri'] = logreg.predict_proba(X)[:, 1]\n",
        "thresholds = [0.4, 0.6, 0.7]\n",
        "\n",
        "for threshold in thresholds:\n",
        "    y_pred_thresholded = (logreg.predict_proba(X)[:, 1] > threshold).astype(int)\n",
        "    print(\"\\nThreshold:\", threshold)\n",
        "    print(\"Accuracy:\", accuracy_score(y, y_pred_thresholded))\n",
        "    print(\"Precision:\", precision_score(y, y_pred_thresholded, average='macro'))\n",
        "    print(\"Recall:\", recall_score(y, y_pred_thresholded, average='macro'))"
      ]
    }
  ]
}